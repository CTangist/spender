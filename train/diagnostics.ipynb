{
 "cells": [
  {
   "cell_type": "code",
   "execution_count": 1,
   "metadata": {
    "id": "zTv__iokXaka"
   },
   "outputs": [],
   "source": [
    "import os, sys \n",
    "import numpy as np\n",
    "import torch\n",
    "from torch import nn\n",
    "from torch import optim\n",
    "from torch.distributions.normal import Normal\n",
    "from model import *\n",
    "\n",
    "# # --- plotting --- \n",
    "%matplotlib inline\n",
    "import matplotlib.pyplot as plt\n",
    "\n",
    "from accelerate import Accelerator"
   ]
  },
  {
   "cell_type": "code",
   "execution_count": 2,
   "metadata": {
    "id": "YozzSBC5Xmmr"
   },
   "outputs": [
    {
     "name": "stdout",
     "output_type": "stream",
     "text": [
      "Loading 5761 spectra (which = test)\n"
     ]
    },
    {
     "ename": "RuntimeError",
     "evalue": "No CUDA GPUs are available",
     "output_type": "error",
     "traceback": [
      "\u001b[0;31m---------------------------------------------------------------------------\u001b[0m",
      "\u001b[0;31mRuntimeError\u001b[0m                              Traceback (most recent call last)",
      "\u001b[0;32m<ipython-input-2-226feb658111>\u001b[0m in \u001b[0;36m<module>\u001b[0;34m\u001b[0m\n\u001b[1;32m      2\u001b[0m \u001b[0;31m#save_data = \"/scratch/network/melchoir/sdss_spectra.38816.npz\"\u001b[0m\u001b[0;34m\u001b[0m\u001b[0;34m\u001b[0m\u001b[0;34m\u001b[0m\u001b[0m\n\u001b[1;32m      3\u001b[0m \u001b[0msave_data\u001b[0m \u001b[0;34m=\u001b[0m \u001b[0;34m\"/scratch/gpfs/yanliang/sdss-spectra/sdss_spectra.38816.npz\"\u001b[0m\u001b[0;34m\u001b[0m\u001b[0;34m\u001b[0m\u001b[0m\n\u001b[0;32m----> 4\u001b[0;31m \u001b[0mdata\u001b[0m \u001b[0;34m=\u001b[0m \u001b[0mload_data\u001b[0m\u001b[0;34m(\u001b[0m\u001b[0msave_data\u001b[0m\u001b[0;34m,\u001b[0m \u001b[0mwhich\u001b[0m\u001b[0;34m=\u001b[0m\u001b[0;34m\"test\"\u001b[0m\u001b[0;34m,\u001b[0m \u001b[0mdevice\u001b[0m\u001b[0;34m=\u001b[0m\u001b[0mdevice\u001b[0m\u001b[0;34m)\u001b[0m\u001b[0;34m\u001b[0m\u001b[0;34m\u001b[0m\u001b[0m\n\u001b[0m",
      "\u001b[0;32m~/spectrum-encoder/model.py\u001b[0m in \u001b[0;36mload_data\u001b[0;34m(path, which, device)\u001b[0m\n\u001b[1;32m     59\u001b[0m     \u001b[0mprint\u001b[0m \u001b[0;34m(\u001b[0m\u001b[0;34mf\"Loading {len(y)} spectra (which = {which})\"\u001b[0m\u001b[0;34m)\u001b[0m\u001b[0;34m\u001b[0m\u001b[0;34m\u001b[0m\u001b[0m\n\u001b[1;32m     60\u001b[0m \u001b[0;34m\u001b[0m\u001b[0m\n\u001b[0;32m---> 61\u001b[0;31m     \u001b[0my\u001b[0m \u001b[0;34m=\u001b[0m \u001b[0mtorch\u001b[0m\u001b[0;34m.\u001b[0m\u001b[0mtensor\u001b[0m\u001b[0;34m(\u001b[0m\u001b[0my\u001b[0m\u001b[0;34m,\u001b[0m \u001b[0mdtype\u001b[0m\u001b[0;34m=\u001b[0m\u001b[0mtorch\u001b[0m\u001b[0;34m.\u001b[0m\u001b[0mfloat32\u001b[0m\u001b[0;34m,\u001b[0m \u001b[0mdevice\u001b[0m\u001b[0;34m=\u001b[0m\u001b[0mdevice\u001b[0m\u001b[0;34m)\u001b[0m\u001b[0;34m\u001b[0m\u001b[0;34m\u001b[0m\u001b[0m\n\u001b[0m\u001b[1;32m     62\u001b[0m     \u001b[0mw\u001b[0m \u001b[0;34m=\u001b[0m \u001b[0mtorch\u001b[0m\u001b[0;34m.\u001b[0m\u001b[0mtensor\u001b[0m\u001b[0;34m(\u001b[0m\u001b[0mw\u001b[0m\u001b[0;34m,\u001b[0m \u001b[0mdtype\u001b[0m\u001b[0;34m=\u001b[0m\u001b[0mtorch\u001b[0m\u001b[0;34m.\u001b[0m\u001b[0mfloat32\u001b[0m\u001b[0;34m,\u001b[0m \u001b[0mdevice\u001b[0m\u001b[0;34m=\u001b[0m\u001b[0mdevice\u001b[0m\u001b[0;34m)\u001b[0m\u001b[0;34m\u001b[0m\u001b[0;34m\u001b[0m\u001b[0m\n\u001b[1;32m     63\u001b[0m     \u001b[0mz\u001b[0m \u001b[0;34m=\u001b[0m \u001b[0mtorch\u001b[0m\u001b[0;34m.\u001b[0m\u001b[0mtensor\u001b[0m\u001b[0;34m(\u001b[0m\u001b[0mz\u001b[0m\u001b[0;34m,\u001b[0m \u001b[0mdtype\u001b[0m\u001b[0;34m=\u001b[0m\u001b[0mtorch\u001b[0m\u001b[0;34m.\u001b[0m\u001b[0mfloat32\u001b[0m\u001b[0;34m,\u001b[0m \u001b[0mdevice\u001b[0m\u001b[0;34m=\u001b[0m\u001b[0mdevice\u001b[0m\u001b[0;34m)\u001b[0m\u001b[0;34m\u001b[0m\u001b[0;34m\u001b[0m\u001b[0m\n",
      "\u001b[0;32m~/.local/lib/python3.8/site-packages/torch/cuda/__init__.py\u001b[0m in \u001b[0;36m_lazy_init\u001b[0;34m()\u001b[0m\n\u001b[1;32m    212\u001b[0m         \u001b[0;31m# This function throws if there's a driver initialization error, no GPUs\u001b[0m\u001b[0;34m\u001b[0m\u001b[0;34m\u001b[0m\u001b[0;34m\u001b[0m\u001b[0m\n\u001b[1;32m    213\u001b[0m         \u001b[0;31m# are found or any other error occurs\u001b[0m\u001b[0;34m\u001b[0m\u001b[0;34m\u001b[0m\u001b[0;34m\u001b[0m\u001b[0m\n\u001b[0;32m--> 214\u001b[0;31m         \u001b[0mtorch\u001b[0m\u001b[0;34m.\u001b[0m\u001b[0m_C\u001b[0m\u001b[0;34m.\u001b[0m\u001b[0m_cuda_init\u001b[0m\u001b[0;34m(\u001b[0m\u001b[0;34m)\u001b[0m\u001b[0;34m\u001b[0m\u001b[0;34m\u001b[0m\u001b[0m\n\u001b[0m\u001b[1;32m    215\u001b[0m         \u001b[0;31m# Some of the queued calls may reentrantly call _lazy_init();\u001b[0m\u001b[0;34m\u001b[0m\u001b[0;34m\u001b[0m\u001b[0;34m\u001b[0m\u001b[0m\n\u001b[1;32m    216\u001b[0m         \u001b[0;31m# we need to just return without initializing in that case.\u001b[0m\u001b[0;34m\u001b[0m\u001b[0;34m\u001b[0m\u001b[0;34m\u001b[0m\u001b[0m\n",
      "\u001b[0;31mRuntimeError\u001b[0m: No CUDA GPUs are available"
     ]
    }
   ],
   "source": [
    "device = torch.device(type='cuda', index=0)\n",
    "#save_data = \"/scratch/network/melchoir/sdss_spectra.38816.npz\"\n",
    "save_data = \"/scratch/gpfs/yanliang/sdss-spectra/sdss_spectra.38816.npz\"\n",
    "data = load_data(save_data, which=\"test\", device=device)"
   ]
  },
  {
   "cell_type": "code",
   "execution_count": null,
   "metadata": {
    "colab": {
     "base_uri": "https://localhost:8080/",
     "height": 369
    },
    "id": "SVYe2pXwX3ch",
    "outputId": "fd52e404-e99c-447a-cd0e-f15ff3e16c02"
   },
   "outputs": [],
   "source": [
    "# plot raw spectra \n",
    "fig = plt.figure(figsize=(12,5))\n",
    "sub = fig.add_subplot(111)\n",
    "for i in np.random.randint(0, data['N'], 1): \n",
    "    sub.plot(data['wave'], data['y'][i].cpu(), c='k')\n",
    "    \n",
    "    # show masked regions\n",
    "    ylim = sub.get_ylim()\n",
    "    sel = data['w'][i].cpu() == 0\n",
    "    t = np.zeros(len(data['wave']))\n",
    "    t[sel] = ylim[1]\n",
    "    sub.fill_between(data['wave'], t, facecolor='k', alpha=0.3)\n",
    "    \n",
    "sub.set_xlim(3800,9200);\n",
    "sub.set_xlabel('wavelength');\n",
    "sub.set_ylabel('normalized flux');\n",
    "sub.set_ylim(0,ylim[1]); "
   ]
  },
  {
   "cell_type": "code",
   "execution_count": null,
   "metadata": {},
   "outputs": [],
   "source": [
    "label, n_config = \"model.series.z-forward.10.sdss.38816\", 10\n",
    "models, losses, best_model = load_models(label, n_config)\n",
    "print(\"best model:\", best_model)"
   ]
  },
  {
   "cell_type": "code",
   "execution_count": null,
   "metadata": {},
   "outputs": [],
   "source": [
    "emissionlines = {\n",
    "1033.82: \"O VI\",\n",
    "1215.24: \"Lyα\",\n",
    "1240.81: \"N V\",\n",
    "1305.53: \"O I\",\n",
    "1335.31: \"C II\",\n",
    "1397.61: \"Si IV\",\n",
    "1399.8: \"Si IV + O IV\",\n",
    "1549.48: \"C IV\",\n",
    "1640.4: \"He II\",\n",
    "1665.85: \"O III\",\n",
    "1857.4: \"Al III\",\n",
    "1908.734: \"C III\",\n",
    "2326.0: \"C II\",\n",
    "2439.5: \"Ne IV\",\n",
    "2799.117: \"Mg II\",\n",
    "3346.79: \"Ne V\",\n",
    "3426.85: \"Ne VI\",\n",
    "3727.092: \"\", #\"O II\",\n",
    "3729.875: \"O II\",\n",
    "3889.0: \"He I\",\n",
    "4072.3: \"S II\",\n",
    "4102.89: \"Hδ\",\n",
    "4341.68: \"Hγ\",\n",
    "4364.436: \"O III\",\n",
    "4862.68: \"Hβ\",\n",
    "4932.603: \"O III\",\n",
    "4960.295: \"O III\",\n",
    "5008.240: \"O III\",\n",
    "6302.046: \"O I\",\n",
    "6365.536: \"O I\",\n",
    "6529.03: \"N I\",\n",
    "6549.86: \"N II\",\n",
    "6564.61: \"Hα\",\n",
    "6585.27: \"N II\",\n",
    "6718.29: \"S II\",\n",
    "6732.67: \"S II\",\n",
    "}\n",
    "\n",
    "absorptionlines = {\n",
    "3934.777: \"K\",\n",
    "3969.588: \"H\",\n",
    "4305.61: \"G\",\n",
    "5176.7: \"Mg\",\n",
    "5895.6: \"Na\",\n",
    "# 6496.9: \"Ba II\",\n",
    "8500.36: \"Ca II\",\n",
    "8544.44: \"Ca II\",\n",
    "8664.52: \"Ca II\",\n",
    "}\n",
    "\n",
    "skylines = [5578.5, 5894.6, 6301.7, 7246.0]\n",
    "lines = {**emissionlines, **absorptionlines}"
   ]
  },
  {
   "cell_type": "code",
   "execution_count": null,
   "metadata": {},
   "outputs": [],
   "source": [
    "import matplotlib\n",
    "from operator import itemgetter\n",
    "from itertools import groupby\n",
    "\n",
    "matplotlib.rcParams.update({'font.size': 14})\n",
    "matplotlib.rcParams.update({'font.sans-serif': 'DejaVu Sans'})\n",
    "matplotlib.rcParams.update({'font.family': 'sans-serif'})\n",
    "\n",
    "def find_edges(y):\n",
    "    ranges = []\n",
    "    for k,g in groupby(enumerate(y),lambda x:x[0]-x[1]):\n",
    "        group = (map(itemgetter(1),g))\n",
    "        group = list(map(int,group))\n",
    "        if len(group) > 1:\n",
    "            ranges.append((group[0], group[-1]))\n",
    "        else:\n",
    "            ranges.append((group[0], group[0]))\n",
    "    return ranges\n",
    "\n",
    "def plot_spec(model, y, z):\n",
    "    \n",
    "    plt.figure()\n",
    "    plt.plot(model.wave_obs.cpu(), y.cpu().T)\n",
    "    for line in skylines:\n",
    "        plt.axvline(line, color='#888888', lw=0.5, zorder=-1)\n",
    "    plt.xlabel('Observed $\\lambda$ [Å]')\n",
    "\n",
    "    with torch.no_grad():\n",
    "        s, spectrum_restframe, spectrum_observed = model._forward(y, z0=z)\n",
    "        \n",
    "    plt.figure()\n",
    "    plt.plot(model.wave_obs.cpu(), spectrum_observed.cpu().T);\n",
    "    plt.xlabel('Observed $\\lambda$ [Å]')\n",
    "\n",
    "    plt.figure()\n",
    "    plt.plot(model.wave_rest.cpu(), spectrum_restframe.cpu().T);\n",
    "    \n",
    "    xlims = plt.gca().get_xlim()\n",
    "    for line,label in lines.items():\n",
    "        if xlims[0] < line < xlims[1]:\n",
    "            plt.axvline(line, color='#888888', lw=0.5, zorder=-1)\n",
    "    plt.xlabel('Restframe $\\lambda$ [Å]')\n",
    "    \n",
    "\n",
    "def plot_spec_zoom(model, y, z, id, w=None):\n",
    "    \n",
    "    n_test = len(y)    \n",
    "    fig, axes = plt.subplots(n_test, 5, sharex=\"col\", sharey=\"row\", figsize=(5*5, n_test*5))\n",
    "    \n",
    "    with torch.no_grad():\n",
    "        _, spec_rest, spec_recon = model._forward(y, z0=z)\n",
    "        spec_rest = spec_rest.cpu()\n",
    "        spec_recon = spec_recon.cpu()\n",
    "        \n",
    "    def plot_panel(sub, wave_rest, spec, wave_model, spec_model, w=None, xlims=None, plot_lines=True, label_lines=False):\n",
    "        sub.plot(wave_rest, spec, drawstyle='steps-mid', c='k', label='Data', lw=2) \n",
    "        ylims = sub.get_ylim()\n",
    "        sub.plot(wave_model, spec_model, drawstyle='steps-mid', c='tab:red', label='Model', lw=2, zorder=5) \n",
    "            \n",
    "        # lines\n",
    "        if plot_lines:\n",
    "            for line,label in lines.items():\n",
    "                if xlims[0] < line < xlims[1]:\n",
    "                    sub.axvline(line, ymax=1.05, color='#888888', lw=0.5, zorder=-1, clip_on=False)\n",
    "                    if label_lines:\n",
    "                        sub.text(line, 1.08 * ylims[1], label, ha='center', va='bottom', rotation=90, color='#888888')                    \n",
    "\n",
    "        # weights: only show in overview panel because horizontal location is mildly off\n",
    "        if w is not None:\n",
    "            cmap = matplotlib.cm.get_cmap('BuPu')\n",
    "            max_color = 0.35\n",
    "            if xlims is None:\n",
    "                colors = (np.sqrt(w.max()) - np.sqrt(w))/np.sqrt(w.max()) * max_color\n",
    "                sub.imshow(colors.reshape(1,-1), aspect='auto', extent=(wave_rest.min(), wave_rest.max(), 0, ylims[1]), cmap=cmap, vmax=1, zorder=-2, rasterized=True)\n",
    "                \n",
    "                # show unobserved region as masked\n",
    "                sub.axvspan(wave_model.min(), wave_rest.min(), color=cmap(max_color), zorder=-2)\n",
    "                sub.axvspan(wave_rest.max(), wave_model.max(), color=cmap(max_color), zorder=-2)\n",
    "                \n",
    "            else:\n",
    "                # show unobserved region as masked\n",
    "                if xlims[0] < wave_rest.min():\n",
    "                    sub.axvspan(wave_model.min(), wave_rest.min(), color=cmap(max_color), zorder=-2)\n",
    "                if xlims[1] > wave_rest.max():\n",
    "                    sub.axvspan(wave_rest.max(), wave_model.max(), color=cmap(max_color), zorder=-2)\n",
    "                \n",
    "                # find masked regions in w\n",
    "                sel = np.arange(len(w))[w <= 1e-6]\n",
    "                ranges = find_edges(sel)\n",
    "                for r in ranges:\n",
    "                    sub.axvspan(wave_rest[r[0]], max(wave_rest[r[1]], wave_rest[r[0]+1]), color=cmap(max_color), zorder=-2)\n",
    "            \n",
    "        if xlims is not None:\n",
    "            sub.set_xlim(*xlims)\n",
    "        sub.set_ylim(ymin=0, ymax=ylims[1])\n",
    "        \n",
    "    for i in range(n_test):\n",
    "        wave_rest = (model.wave_obs/(1+z[i])).cpu()\n",
    "        wave_model = model.wave_rest.cpu()\n",
    "        spec_ = y[i].cpu()\n",
    "        z_ = z[i].cpu()\n",
    "        w_ = w[i].cpu()\n",
    "        id_ = id[i]\n",
    "        spec_recon_ = spec_recon[i]\n",
    "        spec_rest_ = spec_rest[i]\n",
    "        \n",
    "        label_lines = i == 0\n",
    "        sub = axes[i][0]\n",
    "        xlims = None\n",
    "        plot_panel(sub, wave_rest, spec_, wave_model, spec_rest_, w=w_, xlims=xlims, plot_lines=False, label_lines=label_lines)\n",
    "        sub.set_ylabel('normalized flux') \n",
    "        sub.legend(loc='best', frameon=False, title='ID {}\\n $z={:2f}$'.format(id_, z_))\n",
    "        sub.set_xlim(3000, 9200)\n",
    "        \n",
    "        # OII\n",
    "        lmbda, delta = 3727, 50\n",
    "        xlims = (lmbda - delta, lmbda + delta)\n",
    "        plot_panel(axes[i][1], wave_rest, spec_, wave_model, spec_rest_, w=w_, xlims=xlims, label_lines=label_lines)\n",
    "\n",
    "#         # only for paper\n",
    "#         if i == 0:\n",
    "#             sub = axes[i][1]\n",
    "#             sub.text(0.45, 0.95, 'unobserved', c='w', ha='right', va='top', transform=sub.transAxes)\n",
    "#             sub.text(0.65, 0.95, 'observed', c='k', ha='left', va='top', transform=sub.transAxes)\n",
    "        \n",
    "        # Hbeta, OIII\n",
    "        lmbda, delta = 4932, 100\n",
    "        xlims = (lmbda - delta, lmbda + delta)\n",
    "        plot_panel(axes[i][2], wave_rest, spec_, wave_model, spec_rest_, w=w_, xlims=xlims, label_lines=label_lines)\n",
    "        \n",
    "        # Na\n",
    "        lmbda, delta = 5895, 100\n",
    "        xlims = (lmbda - delta, lmbda + delta)\n",
    "        plot_panel(axes[i][3], wave_rest, spec_, wave_model, spec_rest_, w=w_, xlims=xlims, label_lines=label_lines)\n",
    "        \n",
    "        lmbda, delta = 6564, 100\n",
    "        xlims = (6450, 6650)\n",
    "        plot_panel(axes[i][4], wave_rest, spec_, wave_model, spec_rest_, w=w_, xlims=xlims, label_lines=label_lines)\n",
    "\n",
    "    for sub in axes[-1]:\n",
    "        sub.set_xlabel('Restframe $\\lambda$ [Å]')\n",
    "    fig.tight_layout()\n",
    "    fig.subplots_adjust(hspace=0.05, wspace=0.05)\n",
    "    return fig"
   ]
  },
  {
   "cell_type": "code",
   "execution_count": null,
   "metadata": {},
   "outputs": [],
   "source": [
    "indices = [4029, \n",
    "           3592, \n",
    "           2480, \n",
    "           1102, \n",
    "           85]\n",
    "fig = plot_spec_zoom(models[0], data['y'][indices], data['z'][indices], data['id'][indices], w=data['w'][indices])\n",
    "# fig.savefig('examples.pdf')"
   ]
  },
  {
   "cell_type": "code",
   "execution_count": null,
   "metadata": {},
   "outputs": [],
   "source": [
    "n_test = 5\n",
    "indices = np.random.randint(0, data['N'], n_test)\n",
    "plot_spec(models[0], data['y'][indices], data['z'][indices])"
   ]
  },
  {
   "cell_type": "markdown",
   "metadata": {},
   "source": [
    "## Embedding the latents"
   ]
  },
  {
   "cell_type": "code",
   "execution_count": null,
   "metadata": {},
   "outputs": [],
   "source": [
    "model = models[0]\n",
    "\n",
    "batch_size=1024\n",
    "loader = torch.utils.data.DataLoader(\n",
    "    torch.utils.data.TensorDataset(data['y'],),\n",
    "    batch_size=batch_size,\n",
    "    shuffle=False)\n",
    "\n",
    "s = None\n",
    "for y_, in loader:\n",
    "    with torch.no_grad():\n",
    "        s_ = model.encode(y_)\n",
    "        if s is None:\n",
    "            s = s_.cpu().numpy()\n",
    "        else:\n",
    "            s = np.concatenate((s, s_.cpu().numpy()), axis=0)"
   ]
  },
  {
   "cell_type": "code",
   "execution_count": null,
   "metadata": {},
   "outputs": [],
   "source": [
    "import corner\n",
    "corner.corner(s);"
   ]
  },
  {
   "cell_type": "code",
   "execution_count": null,
   "metadata": {},
   "outputs": [],
   "source": [
    "import umap\n",
    "\n",
    "reducer = umap.UMAP()\n",
    "embedding = reducer.fit_transform(s)"
   ]
  },
  {
   "cell_type": "code",
   "execution_count": null,
   "metadata": {},
   "outputs": [],
   "source": [
    "matplotlib.rcParams.update({'font.size': 10})\n",
    "\n",
    "fig, axes = plt.subplots(1, 3, sharey=\"row\", figsize=(15,5))\n",
    "sc = axes[0].scatter(embedding[:,0], embedding[:,1], s=3, c=data['z'].cpu(), rasterized=True)\n",
    "axes[0].set_xticks([])\n",
    "axes[0].set_yticks([])\n",
    "cb = plt.colorbar(sc, ax=axes[0], orientation='horizontal', aspect=50, fraction=0.05, pad=0.02)\n",
    "cb.set_label('$z$')\n",
    "\n",
    "sc = axes[1].scatter(embedding[:,0], embedding[:,1], s=3, c=np.log10(data['norm']), rasterized=True)\n",
    "axes[1].set_xticks([])\n",
    "axes[1].set_yticks([])\n",
    "cb = plt.colorbar(sc, ax=axes[1], orientation='horizontal', aspect=50, fraction=0.05, pad=0.02)\n",
    "cb.set_label('$\\log_{10}(\\mathrm{median\\ flux})$')\n",
    "\n",
    "def load_n_embed(label):\n",
    "    # wave, y, w, z, zerr, norm, id\n",
    "    test_data = load_data(\n",
    "        f'/scratch/network/melchoir/sdss_spectra.{label}.npz', \n",
    "         device=device)\n",
    "\n",
    "    s_ = model.encode(test_data['y'])\n",
    "    s_ = s_.cpu().detach().numpy()\n",
    "    # sort by redshift for better visual distinction\n",
    "    z = test_data['z'].cpu().numpy()\n",
    "    order = np.argsort(z)\n",
    "    embed = reducer.transform(s_)\n",
    "    return embed[order], z[order]\n",
    "\n",
    "axes[2].scatter(embedding[:,0], embedding[:,1], s=5, c='#e0e0e0', rasterized=True)\n",
    "\n",
    "from matplotlib.lines import Line2D\n",
    "legend_elements = []\n",
    "for label,marker,vmax,cmap in zip(['starburst', 'agn_broad', 'starforming'], ['v', 's', 'o'], [0.15, 0.5, 0.2], ['Blues', 'YlOrBr', 'Reds']):\n",
    "    embedding_, z_ = load_n_embed(label)\n",
    "    cmap = matplotlib.cm.get_cmap(cmap)\n",
    "    sc = axes[2].scatter(embedding_[:,0], embedding_[:,1], s=40, c=z_, cmap=cmap, vmin=0, vmax=vmax, marker=marker, label=label)\n",
    "    legend_elements.append(Line2D([0], [0], marker=marker, color=cmap(150), label=label, lw=0))\n",
    "axes[2].legend(handles=legend_elements, loc='upper left', frameon=False)\n",
    "\n",
    "cb = plt.colorbar(sc, ax=axes[2], orientation='horizontal', ticks=[0.0, 0.1, 0.2], aspect=50, fraction=0.05, pad=0.02)\n",
    "cb.set_label('$z$')\n",
    "#cb.set_ticks([[0,0.1,0.2]])\n",
    "axes[2].set_xticks([])\n",
    "axes[2].set_yticks([])\n",
    "\n",
    "fig.tight_layout()\n",
    "fig.subplots_adjust(wspace=0.02, hspace=0)\n",
    "# fig.savefig('umap.pdf')"
   ]
  },
  {
   "cell_type": "markdown",
   "metadata": {},
   "source": [
    "## Look at specific subpopulations"
   ]
  },
  {
   "cell_type": "code",
   "execution_count": null,
   "metadata": {},
   "outputs": [],
   "source": [
    "# wave, y, w, z, zerr, norm, id\n",
    "test_data = load_data(\n",
    "    '/scratch/network/melchoir/sdss_spectra.agn_broad.npz', \n",
    "     device=device)\n",
    "\n",
    "s_ = model.encode(test_data['y'])\n",
    "s_ = s_.cpu().detach().numpy()\n",
    "\n",
    "embedding_ = reducer.transform(s_)\n",
    "sc = plt.scatter(embedding[:,0], embedding[:,1], s=2, c='#aaaaaa')\n",
    "plt.scatter(embedding_[:,0], embedding_[:,1], s=10, c=test_data['z'].cpu().numpy())\n",
    "cb = plt.colorbar(sc)\n",
    "cb.set_label('$z$')\n",
    "\n",
    "plt.grid()\n",
    "# plt.xlim(10,15)\n",
    "# plt.ylim(4,6)"
   ]
  },
  {
   "cell_type": "code",
   "execution_count": null,
   "metadata": {},
   "outputs": [],
   "source": [
    "n_test = 5\n",
    "indices = np.random.randint(0, test_data['N'], n_test)\n",
    "# indices = indices[:5]\n",
    "fig = plot_spec_zoom(model, test_data['y'][indices], test_data['z'][indices], test_data['id'][indices], w=test_data['w'][indices])"
   ]
  },
  {
   "cell_type": "markdown",
   "metadata": {},
   "source": [
    "## Redshift estimation (experimental!!)"
   ]
  },
  {
   "cell_type": "code",
   "execution_count": null,
   "metadata": {},
   "outputs": [],
   "source": [
    "def solve_z(self, x, w, z_guess, n_epoch=10, lr=1e-3):\n",
    "    model.eval()\n",
    "    accelerator = Accelerator()\n",
    "    z = torch.tensor(z_guess.clone().detach(), requires_grad=True)\n",
    "    print(z)\n",
    "    optimizer = optim.Adam([z,], lr=lr)\n",
    "    scheduler = optim.lr_scheduler.OneCycleLR(optimizer, lr, total_steps=n_epoch)\n",
    "    self, optimizer, z, x, w = accelerator.prepare(self, optimizer, z, x, w)\n",
    "    \n",
    "    for epoch in range(n_epoch):\n",
    "        optimizer.zero_grad()\n",
    "        s, spectrum_restframe, spectrum_observed = self._forward(x, z0=z)\n",
    "        loss = self._loss(x, w, spectrum_observed)\n",
    "        accelerator.backward(loss)\n",
    "        optimizer.step()        \n",
    "        scheduler.step()\n",
    "    return z\n"
   ]
  },
  {
   "cell_type": "code",
   "execution_count": null,
   "metadata": {},
   "outputs": [],
   "source": [
    "s_ = model.forward(y_test)"
   ]
  },
  {
   "cell_type": "code",
   "execution_count": null,
   "metadata": {},
   "outputs": [],
   "source": [
    "z__ = solve_z(model, y_test[:1000], w_test[:1000], z_test[:1000], n_epoch=10, lr=1e-3)"
   ]
  },
  {
   "cell_type": "code",
   "execution_count": null,
   "metadata": {},
   "outputs": [],
   "source": [
    "plt.scatter(z_test.cpu(), z_.cpu(), s=1)\n",
    "plt.gca().set_aspect('equal')"
   ]
  },
  {
   "cell_type": "code",
   "execution_count": null,
   "metadata": {},
   "outputs": [],
   "source": [
    "sc = plt.scatter(z_test[:1000].cpu(), z__.cpu(), s=2, alpha=0.5, c=np.log10(data['norms'][test_slice]))\n",
    "cb = plt.colorbar(sc)\n",
    "plt.gca().set_aspect('equal')"
   ]
  }
 ],
 "metadata": {
  "colab": {
   "authorship_tag": "ABX9TyPgiOXs3p9omuJAlshJ6vsY",
   "collapsed_sections": [],
   "include_colab_link": true,
   "name": "convdecode_sdss_z.ipynb",
   "provenance": []
  },
  "kernelspec": {
   "display_name": "Python 3",
   "language": "python",
   "name": "python3"
  },
  "language_info": {
   "codemirror_mode": {
    "name": "ipython",
    "version": 3
   },
   "file_extension": ".py",
   "mimetype": "text/x-python",
   "name": "python",
   "nbconvert_exporter": "python",
   "pygments_lexer": "ipython3",
   "version": "3.8.8"
  }
 },
 "nbformat": 4,
 "nbformat_minor": 4
}
